{
 "cells": [
  {
   "cell_type": "code",
   "execution_count": 1,
   "id": "f1328224-03be-4b02-a631-d25b793dfdd7",
   "metadata": {},
   "outputs": [],
   "source": [
    "import csv\n",
    "import matplotlib.pyplot as plt\n",
    "import matplotlib.colors as mcolors\n",
    "\n",
    "from collections import defaultdict\n",
    "from datetime import datetime\n",
    "\n",
    "import numpy\n",
    "import scipy.optimize"
   ]
  },
  {
   "cell_type": "code",
   "execution_count": 2,
   "id": "475d8bcc-dc03-4dba-aca2-eaf37f6c97bc",
   "metadata": {},
   "outputs": [],
   "source": [
    "def read_csv(path):\n",
    "    rows = []\n",
    "    with open(path, 'r') as file:\n",
    "        csvreader = csv.reader(file)\n",
    "        header = next(csvreader)\n",
    "        for row in csvreader:\n",
    "            rows.append(row)\n",
    "    return header, rows"
   ]
  },
  {
   "cell_type": "code",
   "execution_count": 3,
   "id": "cdb7ff95-a16b-48c0-bfcb-23e9770d4ad2",
   "metadata": {},
   "outputs": [],
   "source": [
    "interaction_header, interactions = read_csv('archive/RAW_interactions.csv')"
   ]
  },
  {
   "cell_type": "code",
   "execution_count": 4,
   "id": "7f9b86de-54fd-4c4e-9b0d-379017c9cd6c",
   "metadata": {},
   "outputs": [],
   "source": [
    "n_interactions = len(interactions)\n",
    "\n",
    "interactionsTrain = interactions[:int(n_interactions * 0.95)]\n",
    "interactionsValid = interactions[int(n_interactions * 0.95):]\n",
    "\n",
    "interactionsPerUser = defaultdict(list)\n",
    "interactionsPerRecipe = defaultdict(list)\n",
    "\n",
    "for user, recipe, date, rating, review in interactionsTrain:\n",
    "    rating = int(rating)\n",
    "    interactionsPerUser[user].append((recipe,rating))\n",
    "    interactionsPerRecipe[recipe].append((user,rating))"
   ]
  },
  {
   "cell_type": "code",
   "execution_count": 5,
   "id": "5b3795e9-1bfc-48c9-82e3-5dafab4e7c00",
   "metadata": {},
   "outputs": [],
   "source": [
    "ratingAvg = 0\n",
    "for user, recipe, date, rating, review in interactionsTrain:\n",
    "    rating = int(rating)\n",
    "    ratingAvg += rating\n",
    "ratingAvg = ratingAvg / len(interactionsTrain)\n",
    "\n",
    "N = len(interactionsTrain)\n",
    "nUsers = len(interactionsPerUser)\n",
    "nItems = len(interactionsPerRecipe)\n",
    "users = list(interactionsPerUser.keys())\n",
    "items = list(interactionsPerRecipe.keys())\n",
    "labels = [int(r[3]) for r in interactionsTrain]\n"
   ]
  },
  {
   "cell_type": "code",
   "execution_count": 6,
   "id": "c6894f89-b232-4986-afc9-4160fae823ac",
   "metadata": {},
   "outputs": [],
   "source": [
    "def MSE(predictions, labels):\n",
    "    differences = [(x-y)**2 for x,y in zip(predictions,labels)]\n",
    "    return sum(differences) / len(differences)\n",
    "\n",
    "def prediction(user, item):\n",
    "    if user not in userBiases.keys():\n",
    "        user_bias = 0\n",
    "    else:\n",
    "        user_bias = userBiases[user]\n",
    "    if item not in itemBiases.keys():\n",
    "        item_bias = 0\n",
    "    else:\n",
    "        item_bias = itemBiases[item]\n",
    "\n",
    "    return alpha + user_bias + item_bias\n",
    "\n",
    "def unpack(theta):\n",
    "    global alpha\n",
    "    global userBiases\n",
    "    global itemBiases\n",
    "    alpha = theta[0]\n",
    "    userBiases = dict(zip(users, theta[1:nUsers+1]))\n",
    "    itemBiases = dict(zip(items, theta[1+nUsers:]))\n",
    "\n",
    "def cost(theta, labels, lamb):\n",
    "    unpack(theta)\n",
    "    predictions = [prediction(d[0], d[1]) for d in interactionsTrain]\n",
    "    cost = MSE(predictions, labels)\n",
    "    print(\"MSE = \" + str(cost))\n",
    "    for u in userBiases:\n",
    "        cost += lamb*userBiases[u]**2\n",
    "    for i in itemBiases:\n",
    "        cost += lamb*itemBiases[i]**2\n",
    "    return cost\n",
    "\n",
    "def derivative(theta, labels, lamb):\n",
    "    unpack(theta)\n",
    "    N = len(interactionsTrain)\n",
    "    dalpha = 0\n",
    "    dUserBiases = defaultdict(float)\n",
    "    dItemBiases = defaultdict(float)\n",
    "    for d in interactionsTrain:\n",
    "        u,i = d[0], d[1]\n",
    "        pred = prediction(u, i)\n",
    "        diff = pred - int(d[3])\n",
    "        dalpha += 2/N*diff\n",
    "        dUserBiases[u] += 2/N*diff\n",
    "        dItemBiases[i] += 2/N*diff\n",
    "    for u in userBiases:\n",
    "        dUserBiases[u] += 2*lamb*userBiases[u]\n",
    "    for i in itemBiases:\n",
    "        dItemBiases[i] += 2*lamb*itemBiases[i]\n",
    "    dtheta = [dalpha] + [dUserBiases[u] for u in users] + [dItemBiases[i] for i in items]\n",
    "    return numpy.array(dtheta)"
   ]
  },
  {
   "cell_type": "code",
   "execution_count": 7,
   "id": "d97f89df-175e-430f-a4fd-ec52510eb9f2",
   "metadata": {
    "scrolled": true
   },
   "outputs": [
    {
     "name": "stdout",
     "output_type": "stream",
     "text": [
      "MSE = 1.6027857403287\n",
      "MSE = 1.5885345972100628\n",
      "MSE = 1.7557451281648446\n",
      "MSE = 1.5826711479305628\n",
      "MSE = 1.5731047068506734\n",
      "MSE = 1.5726156123872181\n",
      "MSE = 1.570702076819318\n",
      "MSE = 1.563733411156382\n",
      "MSE = 1.5346320506410809\n",
      "MSE = 1.5185929741664346\n",
      "MSE = 1.4863799429549327\n",
      "MSE = 1.4679255195172403\n",
      "MSE = 1.4521007265145245\n",
      "MSE = 1.4409547044056101\n",
      "MSE = 1.4280233600478383\n",
      "MSE = 1.4044902200282903\n",
      "MSE = 1.391001566385275\n",
      "MSE = 1.3925948754424713\n",
      "MSE = 1.3794777059522658\n",
      "MSE = 1.371713825631914\n",
      "MSE = 1.3731067781811452\n",
      "MSE = 1.3583041850526107\n",
      "MSE = 1.3677084208356296\n",
      "MSE = 1.3692326181970516\n",
      "MSE = 1.3681213936713796\n",
      "MSE = 1.3656381303142018\n",
      "MSE = 1.3635709117133148\n",
      "MSE = 1.359606782337192\n",
      "MSE = 1.355765998777765\n",
      "MSE = 1.3498083894828166\n",
      "MSE = 1.355535233769787\n",
      "MSE = 1.3508781603193345\n",
      "MSE = 1.378587661484973\n",
      "MSE = 1.3505891996322144\n",
      "MSE = 1.349809699458698\n",
      "MSE = 1.3493840715920884\n",
      "MSE = 1.34873466086062\n",
      "MSE = 1.3477685971745599\n",
      "MSE = 1.3404802945387002\n",
      "MSE = 1.3459058364731549\n",
      "MSE = 1.3450437999316145\n",
      "MSE = 1.3447192405477097\n",
      "MSE = 1.3451025383661375\n",
      "MSE = 1.3456833506402703\n",
      "MSE = 1.3454831216834127\n",
      "MSE = 1.423721039782281\n",
      "MSE = 1.3453904678951967\n",
      "MSE = 1.3455532908955827\n",
      "MSE = 1.3454751964326517\n",
      "MSE = 1.3453714229272271\n",
      "MSE = 1.3452188962943303\n",
      "MSE = 1.3453032644943241\n",
      "MSE = 1.3439425979106583\n",
      "MSE = 1.346509448121452\n",
      "MSE = 1.3449488270471777\n",
      "MSE = 1.3450310405245822\n",
      "MSE = 1.3448191442939357\n",
      "MSE = 1.3445163044846828\n",
      "MSE = 1.354277217843036\n",
      "MSE = 1.3445683293501813\n",
      "MSE = 1.3438554135623086\n",
      "MSE = 1.3417319649035415\n",
      "MSE = 1.3430255715414374\n",
      "MSE = 1.3426590961286564\n",
      "MSE = 1.3422582866336712\n",
      "MSE = 1.3419755200173957\n",
      "MSE = 1.3409178197525509\n",
      "MSE = 1.3402201233497344\n",
      "MSE = 1.3388623806068602\n",
      "MSE = 1.3393454916986378\n",
      "MSE = 1.3389913721032976\n",
      "MSE = 1.3391840938316166\n",
      "MSE = 1.3396381815628013\n",
      "MSE = 1.3392952212039269\n",
      "MSE = 1.339299375708\n",
      "MSE = 1.3388559212687547\n",
      "MSE = 1.3385961368116246\n",
      "MSE = 1.3382503295339154\n",
      "MSE = 1.3383005993731303\n",
      "MSE = 1.3386562815892837\n",
      "MSE = 1.3389826565682974\n",
      "MSE = 1.339499439782179\n",
      "MSE = 1.3395406203399034\n",
      "MSE = 1.3395988611841858\n",
      "MSE = 1.3396767938922427\n",
      "MSE = 1.3396029392383988\n",
      "MSE = 1.3394948444499195\n",
      "MSE = 1.3406966111225596\n",
      "MSE = 1.3394725721435967\n",
      "MSE = 1.3392353170656612\n",
      "MSE = 1.3393106222764066\n",
      "MSE = 1.3388123005288648\n",
      "MSE = 1.3391075123306062\n",
      "MSE = 1.3389386593098351\n",
      "MSE = 1.3387988910786983\n",
      "MSE = 1.3386141836505467\n",
      "MSE = 1.3386818158294862\n",
      "MSE = 1.3386293808639125\n",
      "MSE = 1.3386009045035432\n",
      "MSE = 1.338581311892352\n",
      "MSE = 1.338585559150722\n",
      "MSE = 1.3385904186023891\n",
      "MSE = 1.3385821670790916\n",
      "MSE = 1.3385646878152613\n",
      "MSE = 1.3385455837698281\n",
      "MSE = 1.33856078722424\n",
      "MSE = 1.3385500562508676\n",
      "MSE = 1.3385387353658962\n",
      "MSE = 1.3385107979545934\n",
      "MSE = 1.3384798720829925\n",
      "MSE = 1.338349951943883\n",
      "MSE = 1.3384223301786178\n",
      "MSE = 1.3384300203247697\n",
      "MSE = 1.338418686214014\n",
      "MSE = 1.3384207354449444\n",
      "MSE = 1.3384440622069054\n",
      "MSE = 1.338560989549505\n",
      "MSE = 1.3384417551504777\n",
      "MSE = 1.3384500365433951\n",
      "MSE = 1.3384380699230152\n",
      "MSE = 1.3384466346258828\n",
      "MSE = 1.3384721151772254\n",
      "MSE = 1.338470810272883\n",
      "MSE = 1.338474491397844\n",
      "MSE = 1.3384584570044766\n",
      "MSE = 1.3384398625051936\n",
      "MSE = 1.3384130639937768\n",
      "MSE = 1.3384369274064511\n",
      "MSE = 1.3384183239803173\n",
      "MSE = 1.3384391279726673\n",
      "MSE = 1.338428075792564\n",
      "MSE = 1.3384208657782624\n",
      "MSE = 1.3384168413359625\n",
      "MSE = 1.3384212089042948\n",
      "MSE = 1.338418437183593\n",
      "MSE = 1.3384193207311583\n",
      "MSE = 1.3384126974684096\n",
      "MSE = 1.3384327511964487\n",
      "MSE = 1.338412115261933\n",
      "MSE = 1.3384239612970208\n",
      "MSE = 1.3384417282197185\n",
      "MSE = 1.338432063968753\n",
      "MSE = 1.3384388339942352\n",
      "MSE = 1.3384359328244493\n",
      "MSE = 1.3384307263171609\n",
      "MSE = 1.3384272560782433\n",
      "MSE = 1.338428353850664\n",
      "MSE = 1.3384274023520193\n",
      "MSE = 1.3384257885656992\n",
      "MSE = 1.3384139648610491\n",
      "MSE = 1.3384230704200757\n",
      "MSE = 1.3384238780248734\n",
      "MSE = 1.3384248765517532\n",
      "MSE = 1.3384256285231415\n",
      "MSE = 1.3384261903011974\n",
      "MSE = 1.3384273485131304\n",
      "MSE = 1.3384143997100884\n",
      "MSE = 1.3384255466582624\n",
      "MSE = 1.3384243931352549\n",
      "MSE = 1.3384218605476523\n"
     ]
    },
    {
     "data": {
      "text/plain": [
       "(array([ 4.15455521,  0.30085779,  0.30910924, ..., -0.12194059,\n",
       "         0.04676348,  0.01964554]),\n",
       " 1.4201800282440953,\n",
       " {'grad': array([ 1.91751962e-06, -1.22655426e-07, -9.53429765e-08, ...,\n",
       "          6.23430768e-09,  2.89485082e-10, -3.89323768e-09]),\n",
       "  'task': 'CONVERGENCE: NORM_OF_PROJECTED_GRADIENT_<=_PGTOL',\n",
       "  'funcalls': 160,\n",
       "  'nit': 129,\n",
       "  'warnflag': 0})"
      ]
     },
     "execution_count": 7,
     "metadata": {},
     "output_type": "execute_result"
    }
   ],
   "source": [
    "##################################################\n",
    "# Training                                       #\n",
    "##################################################\n",
    "alpha = ratingAvg\n",
    "userBiases = defaultdict(float)\n",
    "itemBiases = defaultdict(float)\n",
    "lamb = 0.00003\n",
    "scipy.optimize.fmin_l_bfgs_b(cost, [alpha] + [0.0]*(nUsers+nItems), derivative, args = (labels, lamb))"
   ]
  },
  {
   "cell_type": "code",
   "execution_count": 12,
   "id": "3c939b93-8573-4e32-93d4-54603e49cf31",
   "metadata": {},
   "outputs": [
    {
     "data": {
      "text/plain": [
       "0.7188046415514227"
      ]
     },
     "execution_count": 12,
     "metadata": {},
     "output_type": "execute_result"
    }
   ],
   "source": [
    "##################################################\n",
    "# Validation Run                                 #\n",
    "##################################################\n",
    "correct = 0\n",
    "for user, recipe, date, rating, review in interactionsValid:\n",
    "    label = int(rating)\n",
    "\n",
    "    # Cold Start\n",
    "    if user not in interactionsPerUser or recipe not in interactionsPerRecipe:\n",
    "        pred = 5\n",
    "    else:\n",
    "        raw_pred = prediction(user, recipe)\n",
    "        if raw_pred - int(raw_pred) > 0.5:\n",
    "            pred = int(raw_pred) + 1\n",
    "        else:\n",
    "            pred = int(raw_pred)\n",
    "\n",
    "    # raw_pred = prediction(user, recipe)\n",
    "    # if raw_pred - int(raw_pred) > 0.5:\n",
    "    #     pred = int(raw_pred) + 1\n",
    "    # else:\n",
    "    #     pred = int(raw_pred)\n",
    "\n",
    "    pred = min(max(pred, 0), 5)\n",
    "\n",
    "    if pred == label:\n",
    "        correct += 1\n",
    "\n",
    "accuracy = correct / len(interactionsValid)\n",
    "accuracy"
   ]
  },
  {
   "cell_type": "code",
   "execution_count": null,
   "id": "667105e4-80f3-4c04-8eb7-ad73c651a0e5",
   "metadata": {},
   "outputs": [],
   "source": []
  },
  {
   "cell_type": "code",
   "execution_count": null,
   "id": "ccbeaadf-b853-4a0e-b671-9edbe7022294",
   "metadata": {},
   "outputs": [],
   "source": []
  },
  {
   "cell_type": "code",
   "execution_count": null,
   "id": "9bd7288c-f29b-41a7-9215-25510c1f51c8",
   "metadata": {},
   "outputs": [],
   "source": []
  },
  {
   "cell_type": "code",
   "execution_count": null,
   "id": "a9a78087-59ea-409e-afec-d5a4929ed966",
   "metadata": {},
   "outputs": [],
   "source": []
  },
  {
   "cell_type": "code",
   "execution_count": 4,
   "id": "64d7954c-2b32-4b20-aa5a-64fba2a17fc7",
   "metadata": {},
   "outputs": [
    {
     "name": "stdout",
     "output_type": "stream",
     "text": [
      "['name', 'id', 'minutes', 'contributor_id', 'submitted', 'tags', 'nutrition', 'n_steps', 'steps', 'description', 'ingredients', 'n_ingredients']\n",
      "['arriba   baked winter squash mexican style', '137739', '55', '47892', '2005-09-16', \"['60-minutes-or-less', 'time-to-make', 'course', 'main-ingredient', 'cuisine', 'preparation', 'occasion', 'north-american', 'side-dishes', 'vegetables', 'mexican', 'easy', 'fall', 'holiday-event', 'vegetarian', 'winter', 'dietary', 'christmas', 'seasonal', 'squash']\", '[51.5, 0.0, 13.0, 0.0, 2.0, 0.0, 4.0]', '11', \"['make a choice and proceed with recipe', 'depending on size of squash , cut into half or fourths', 'remove seeds', 'for spicy squash , drizzle olive oil or melted butter over each cut squash piece', 'season with mexican seasoning mix ii', 'for sweet squash , drizzle melted honey , butter , grated piloncillo over each cut squash piece', 'season with sweet mexican spice mix', 'bake at 350 degrees , again depending on size , for 40 minutes up to an hour , until a fork can easily pierce the skin', 'be careful not to burn the squash especially if you opt to use sugar or butter', 'if you feel more comfortable , cover the squash with aluminum foil the first half hour , give or take , of baking', 'if desired , season with salt']\", 'autumn is my favorite time of year to cook! this recipe \\ncan be prepared either spicy or sweet, your choice!\\ntwo of my posted mexican-inspired seasoning mix recipes are offered as suggestions.', \"['winter squash', 'mexican seasoning', 'mixed spice', 'honey', 'butter', 'olive oil', 'salt']\", '7']\n",
      "231637\n"
     ]
    }
   ],
   "source": [
    "recipe_header, recipes = read_csv('archive/RAW_recipes.csv')"
   ]
  },
  {
   "cell_type": "code",
   "execution_count": 5,
   "id": "dcbe4de8-3cff-463f-bed6-a75e6f33028e",
   "metadata": {},
   "outputs": [],
   "source": [
    "rating_count = defaultdict(int)\n",
    "user_recipe_rating_map = {}\n",
    "recipes_per_user = defaultdict(set)\n",
    "users_per_recipe = defaultdict(set)\n",
    "\n",
    "\n",
    "for user, recipe, date, rating, review in interactions:\n",
    "    rating_count[rating] += 1\n",
    "    user_recipe_rating_map[(user, recipe)] = int(rating)\n",
    "    recipes_per_user[user].add(recipe)\n",
    "    users_per_recipe[recipe].add(user)\n",
    "\n",
    "user_avg_rating = {}\n",
    "recipe_avg_rating = {}\n",
    "\n",
    "for user in recipes_per_user.keys():\n",
    "    ratings = []\n",
    "    for recipe in recipes_per_user[user]:\n",
    "        ratings.append(user_recipe_rating_map[(user, recipe)])\n",
    "    avg_rating = sum(ratings) / len(ratings)\n",
    "    user_avg_rating[user] = avg_rating\n",
    "\n",
    "for recipe in users_per_recipe.keys():\n",
    "    ratings = []\n",
    "    for user in users_per_recipe[recipe]:\n",
    "        ratings.append(user_recipe_rating_map[(user, recipe)])\n",
    "    avg_rating = sum(ratings) / len(ratings)\n",
    "    recipe_avg_rating[recipe] = avg_rating"
   ]
  },
  {
   "cell_type": "code",
   "execution_count": 6,
   "id": "f92e3844-5e80-44de-8a2f-b21d6568b071",
   "metadata": {},
   "outputs": [
    {
     "name": "stdout",
     "output_type": "stream",
     "text": [
      "users:  226570\n",
      "recipes:  231637\n",
      "interactions:  1132367\n"
     ]
    }
   ],
   "source": [
    "# How many users/recipes/interactions entries?\n",
    "users_ids = recipes_per_user.keys()\n",
    "recipe_ids = users_per_recipe.keys()\n",
    "\n",
    "print(\"users: \", len(users_ids))\n",
    "print(\"recipes: \", len(recipe_ids))\n",
    "print(\"interactions: \", len(interactions))"
   ]
  },
  {
   "cell_type": "code",
   "execution_count": 7,
   "id": "e857acde-4020-4cea-802f-cc5da77cf18f",
   "metadata": {},
   "outputs": [
    {
     "data": {
      "text/plain": [
       "defaultdict(int,\n",
       "            {'4': 187360,\n",
       "             '5': 816364,\n",
       "             '0': 60847,\n",
       "             '2': 14123,\n",
       "             '3': 40855,\n",
       "             '1': 12818})"
      ]
     },
     "execution_count": 7,
     "metadata": {},
     "output_type": "execute_result"
    }
   ],
   "source": [
    "# What is the overall distribution of ratings?\n",
    "rating_count"
   ]
  },
  {
   "cell_type": "code",
   "execution_count": 8,
   "id": "1801b177-e5ff-48f2-96de-ef3adba5f84a",
   "metadata": {},
   "outputs": [
    {
     "data": {
      "text/plain": [
       "4.411016039852804"
      ]
     },
     "execution_count": 8,
     "metadata": {},
     "output_type": "execute_result"
    }
   ],
   "source": [
    "# What is the global average rating?\n",
    "sum_total = 0\n",
    "count_total = 0\n",
    "for rating, count in rating_count.items():\n",
    "    sum_total += int(rating) * count\n",
    "    count_total += count\n",
    "global_avg_rating = sum_total / count_total; global_avg_rating"
   ]
  },
  {
   "cell_type": "code",
   "execution_count": 9,
   "id": "0886ceb4-980b-4517-81fd-d46a5f2ceaf7",
   "metadata": {},
   "outputs": [
    {
     "name": "stdout",
     "output_type": "stream",
     "text": [
      "([0, 0, 0, 0, 0], [259205, 259260, 288000, 1051200, 2147483647])\n"
     ]
    },
    {
     "data": {
      "image/png": "[encoded data removed]",
      "text/plain": [
       "<Figure size 640x480 with 1 Axes>"
      ]
     },
     "metadata": {},
     "output_type": "display_data"
    },
    {
     "data": {
      "text/plain": [
       "0.9812724219360465"
      ]
     },
     "execution_count": 9,
     "metadata": {},
     "output_type": "execute_result"
    }
   ],
   "source": [
    "# What is the overall distribution of minutes and their average ratings in the recipes?\n",
    "minutes = [int(r[2]) for r in recipes]\n",
    "minutes.sort()\n",
    "print((minutes[:5], minutes[-5:]))\n",
    "\n",
    "mins_to_recipe_ratings = defaultdict(list) \n",
    "for r in recipes:\n",
    "    recipe, minute = r[1], r[2]\n",
    "    mins_to_recipe_ratings[minute].append(recipe_avg_rating[recipe])\n",
    "\n",
    "mins_to_avg_ratings = []\n",
    "for minute, ratings in mins_to_recipe_ratings.items():\n",
    "    avg = sum(ratings) / len(ratings)\n",
    "    mins_to_avg_ratings.append((int(minute), avg, len(ratings)))\n",
    "\n",
    "mins_to_avg_ratings.sort();\n",
    "\n",
    "# Normalize bar color based on sample size\n",
    "n_values = [n for _, _, n in mins_to_avg_ratings]\n",
    "norm = mcolors.Normalize(vmin=min(n_values), vmax=max(n_values))\n",
    "\n",
    "# Draw the diagram\n",
    "def get_color(n):\n",
    "    # Adjust the range of colors used. For example, 0.3 to 1.0.\n",
    "    # This means the lightest color will not be too light.\n",
    "    adjusted_n = 0.1 + 0.9 * norm(n)\n",
    "    return plt.cm.Blues(adjusted_n)\n",
    "\n",
    "for x, y, n in mins_to_avg_ratings:\n",
    "    plt.bar(x, y, color=get_color(n))\n",
    "plt.xlim(0, 500) \n",
    "plt.xlabel('minutes')\n",
    "plt.ylabel('average ratings')\n",
    "plt.show()\n",
    "\n",
    "# minute < 500 (accounted for 98.13% of total samples)\n",
    "count = 0\n",
    "for r in recipes:\n",
    "    minute = r[2]\n",
    "    if int(minute) <= 500:\n",
    "        count += 1\n",
    "count / len(recipes)"
   ]
  },
  {
   "cell_type": "code",
   "execution_count": 10,
   "id": "12e897f3-0bba-4786-9beb-49ecf4878ef2",
   "metadata": {},
   "outputs": [
    {
     "name": "stdout",
     "output_type": "stream",
     "text": [
      "([0, 1, 1, 1, 1, 1, 1, 1, 1, 1], [88, 90, 93, 97, 98, 100, 108, 110, 113, 145])\n"
     ]
    },
    {
     "data": {
      "image/png": "[encoded data removed]",
      "text/plain": [
       "<Figure size 640x480 with 1 Axes>"
      ]
     },
     "metadata": {},
     "output_type": "display_data"
    }
   ],
   "source": [
    "# What is the overall distribution of steps and their average ratings in the recipe?\n",
    "steps = [int(r[7]) for r in recipes]\n",
    "steps.sort()\n",
    "print((steps[:10], steps[-10:]))\n",
    "\n",
    "steps_to_recipe_ratings = defaultdict(list) \n",
    "for r in recipes:\n",
    "    recipe, step = r[1], r[7]\n",
    "    steps_to_recipe_ratings[step].append(recipe_avg_rating[recipe])\n",
    "\n",
    "steps_to_avg_ratings = []\n",
    "for step, ratings in steps_to_recipe_ratings.items():\n",
    "    avg = sum(ratings) / len(ratings)\n",
    "    steps_to_avg_ratings.append((int(step), avg, len(ratings)))\n",
    "\n",
    "steps_to_avg_ratings.sort();\n",
    "\n",
    "# Normalize bar color based on sample size\n",
    "n_values = [n for _, _, n in steps_to_avg_ratings]\n",
    "norm = mcolors.Normalize(vmin=min(n_values), vmax=max(n_values))\n",
    "\n",
    "# Draw the diagram\n",
    "def get_color(n):\n",
    "    # Adjust the range of colors used. For example, 0.3 to 1.0.\n",
    "    # This means the lightest color will not be too light.\n",
    "    adjusted_n = 0.1 + 0.9 * norm(n)\n",
    "    return plt.cm.Blues(adjusted_n)\n",
    "\n",
    "for x, y, n in steps_to_avg_ratings:\n",
    "    plt.bar(x, y, color=get_color(n))\n",
    "# plt.xlim(0, 10) \n",
    "plt.xlabel('steps')\n",
    "plt.ylabel('average ratings')\n",
    "plt.show()"
   ]
  },
  {
   "cell_type": "code",
   "execution_count": 13,
   "id": "f2ab49d5-3192-4d4f-964b-abfb04defa87",
   "metadata": {},
   "outputs": [
    {
     "name": "stdout",
     "output_type": "stream",
     "text": [
      "([1, 1, 1, 1, 1, 1, 1, 1, 1, 1], [35, 35, 36, 37, 37, 38, 39, 40, 40, 43])\n"
     ]
    },
    {
     "data": {
      "image/png": "[encoded data removed]",
      "text/plain": [
       "<Figure size 640x480 with 1 Axes>"
      ]
     },
     "metadata": {},
     "output_type": "display_data"
    }
   ],
   "source": [
    "# What is the overall distribution of the number of ingredients and their average ratings in the recipe?\n",
    "n_ingredient_list = [int(r[11]) for r in recipes]\n",
    "n_ingredient_list.sort()\n",
    "print((n_ingredient_list[:10], n_ingredient_list[-10:]))\n",
    "\n",
    "n_ingredient_to_recipe_ratings = defaultdict(list) \n",
    "for r in recipes:\n",
    "    recipe, n_ingredient = r[1], r[11]\n",
    "    n_ingredient_to_recipe_ratings[n_ingredient].append(recipe_avg_rating[recipe])\n",
    "\n",
    "n_ingredient_to_avg_ratings = []\n",
    "for n_ingredient, ratings in n_ingredient_to_recipe_ratings.items():\n",
    "    avg = sum(ratings) / len(ratings)\n",
    "    n_ingredient_to_avg_ratings.append((int(n_ingredient), avg, len(ratings)))\n",
    "\n",
    "n_ingredient_to_avg_ratings.sort();\n",
    "\n",
    "# Normalize bar color based on sample size\n",
    "n_values = [n for _, _, n in n_ingredient_to_avg_ratings]\n",
    "norm = mcolors.Normalize(vmin=min(n_values), vmax=max(n_values))\n",
    "\n",
    "# Draw the diagram\n",
    "def get_color(n):\n",
    "    # Adjust the range of colors used. For example, 0.3 to 1.0.\n",
    "    # This means the lightest color will not be too light.\n",
    "    adjusted_n = 0.1 + 0.9 * norm(n)\n",
    "    return plt.cm.Blues(adjusted_n)\n",
    "\n",
    "for x, y, n in n_ingredient_to_avg_ratings:\n",
    "    plt.bar(x, y, color=get_color(n))\n",
    "# plt.xlim(0, 10) \n",
    "plt.xlabel('n_ingredient')\n",
    "plt.ylabel('average ratings')\n",
    "plt.show()"
   ]
  },
  {
   "cell_type": "code",
   "execution_count": 14,
   "id": "692dccad-7a37-4b87-9bcc-618ea1423498",
   "metadata": {},
   "outputs": [
    {
     "data": {
      "text/plain": [
       "['preparation',\n",
       " 'time-to-make',\n",
       " 'course',\n",
       " 'main-ingredient',\n",
       " 'dietary',\n",
       " 'easy',\n",
       " 'occasion',\n",
       " 'cuisine',\n",
       " 'low-in-something',\n",
       " 'main-dish']"
      ]
     },
     "execution_count": 14,
     "metadata": {},
     "output_type": "execute_result"
    }
   ],
   "source": [
    "# What are the top 10 most popular tags?\n",
    "tag_count = defaultdict(int)\n",
    "for r in recipes:\n",
    "    recipe, tags = r[1], r[5]\n",
    "    for tag in eval(tags):\n",
    "        tag_count[tag] += 1\n",
    "\n",
    "tag_list = []\n",
    "for tag, count in tag_count.items():\n",
    "    tag_list.append((count, tag))\n",
    "\n",
    "tag_list.sort(reverse=True)\n",
    "[t[1] for t in tag_list[:10]]"
   ]
  },
  {
   "cell_type": "code",
   "execution_count": 15,
   "id": "529cd314-d121-400a-a2cb-8b111769decd",
   "metadata": {},
   "outputs": [
    {
     "name": "stdout",
     "output_type": "stream",
     "text": [
      "['2000-01-25', '2018-12-20']\n",
      "['1999-08-06', '2018-12-04']\n"
     ]
    }
   ],
   "source": [
    "# What time period does the dataset cover?\n",
    "interaction_interval = None\n",
    "for i in interactions:\n",
    "    date = datetime.strptime(i[2], \"%Y-%m-%d\")\n",
    "    if not interaction_interval:\n",
    "        interaction_interval = [date, date]\n",
    "    else:\n",
    "        if date < interaction_interval[0]:\n",
    "            interaction_interval[0] = date\n",
    "        if date > interaction_interval[1]:\n",
    "            interaction_interval[1] = date\n",
    "print([i.strftime(\"%Y-%m-%d\") for i in interaction_interval])\n",
    "\n",
    "recipe_interval = None\n",
    "for r in recipes:\n",
    "    date = datetime.strptime(r[4], \"%Y-%m-%d\")\n",
    "    if not recipe_interval:\n",
    "        recipe_interval = [date, date]\n",
    "    else:\n",
    "        if date < recipe_interval[0]:\n",
    "            recipe_interval[0] = date\n",
    "        if date > recipe_interval[1]:\n",
    "            recipe_interval[1] = date\n",
    "print([i.strftime(\"%Y-%m-%d\") for i in recipe_interval])"
   ]
  },
  {
   "cell_type": "code",
   "execution_count": 16,
   "id": "a6072fb3-b63a-4d41-bf61-4d5c6908fb9e",
   "metadata": {},
   "outputs": [
    {
     "name": "stdout",
     "output_type": "stream",
     "text": [
      "[(5.0, '99968'), (5.0, '99970'), (5.0, '99975'), (5.0, '99980'), (5.0, '99983'), (5.0, '99984'), (5.0, '99989'), (5.0, '99993'), (5.0, '99998'), (5.0, '99999')]\n",
      "[(0.0, '100036'), (0.0, '100117'), (0.0, '100273'), (0.0, '100328'), (0.0, '10037'), (0.0, '100415'), (0.0, '100426'), (0.0, '100459'), (0.0, '10047'), (0.0, '100492')]\n"
     ]
    }
   ],
   "source": [
    "# Which are the recipes that are rated the best/worst (top 10) on average and their average ratings?\n",
    "recipe_avg_rating_list = []\n",
    "\n",
    "for recipe, rating in recipe_avg_rating.items():\n",
    "    recipe_avg_rating_list.append((rating, recipe))\n",
    "\n",
    "recipe_avg_rating_list.sort()\n",
    "\n",
    "# Best recipes\n",
    "print(recipe_avg_rating_list[-10:])\n",
    "# Worse recipes\n",
    "print(recipe_avg_rating_list[:10])"
   ]
  },
  {
   "cell_type": "code",
   "execution_count": null,
   "id": "57f4d51b-cadc-4d81-8933-4b1679581e56",
   "metadata": {},
   "outputs": [],
   "source": []
  }
 ],
 "metadata": {
  "kernelspec": {
   "display_name": "Python 3 (ipykernel)",
   "language": "python",
   "name": "python3"
  },
  "language_info": {
   "codemirror_mode": {
    "name": "ipython",
    "version": 3
   },
   "file_extension": ".py",
   "mimetype": "text/x-python",
   "name": "python",
   "nbconvert_exporter": "python",
   "pygments_lexer": "ipython3",
   "version": "3.10.13"
  }
 },
 "nbformat": 4,
 "nbformat_minor": 5
}
