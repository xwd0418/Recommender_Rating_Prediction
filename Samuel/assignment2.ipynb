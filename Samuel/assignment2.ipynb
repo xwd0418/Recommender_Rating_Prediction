{
 "cells": [
  {
   "cell_type": "code",
   "execution_count": 17,
   "id": "f1328224-03be-4b02-a631-d25b793dfdd7",
   "metadata": {},
   "outputs": [],
   "source": [
    "import csv\n",
    "import matplotlib.pyplot as plt\n",
    "import matplotlib.colors as mcolors\n",
    "\n",
    "from collections import defaultdict\n",
    "from datetime import datetime\n",
    "\n",
    "import numpy\n",
    "import scipy.optimize\n",
    "from sklearn.linear_model import LogisticRegression\n",
    "from sklearn.preprocessing import StandardScaler"
   ]
  },
  {
   "cell_type": "code",
   "execution_count": 2,
   "id": "475d8bcc-dc03-4dba-aca2-eaf37f6c97bc",
   "metadata": {},
   "outputs": [],
   "source": [
    "def read_csv(path):\n",
    "    rows = []\n",
    "    with open(path, 'r') as file:\n",
    "        csvreader = csv.reader(file)\n",
    "        header = next(csvreader)\n",
    "        for row in csvreader:\n",
    "            rows.append(row)\n",
    "    return header, rows"
   ]
  },
  {
   "cell_type": "code",
   "execution_count": 3,
   "id": "6f776fa1-0864-4a0c-a2e3-e72eb1a43890",
   "metadata": {},
   "outputs": [
    {
     "data": {
      "text/plain": [
       "['38094',\n",
       " '40893',\n",
       " '2003-02-17',\n",
       " '4',\n",
       " 'Great with a salad. Cooked on top of stove for 15 minutes.Added a shake of cayenne and a pinch of salt.  Used low fat sour cream.  Thanks.']"
      ]
     },
     "execution_count": 3,
     "metadata": {},
     "output_type": "execute_result"
    }
   ],
   "source": [
    "interaction_header, interactions = read_csv('archive/RAW_interactions.csv')\n",
    "interactions[0]"
   ]
  },
  {
   "cell_type": "code",
   "execution_count": 4,
   "id": "7f9b86de-54fd-4c4e-9b0d-379017c9cd6c",
   "metadata": {},
   "outputs": [],
   "source": [
    "n_interactions = len(interactions)\n",
    "\n",
    "interactionsTrain = interactions[:int(n_interactions * 0.95)]\n",
    "interactionsValid = interactions[int(n_interactions * 0.95):]\n",
    "\n",
    "interactionsPerUser = defaultdict(list)\n",
    "interactionsPerRecipe = defaultdict(list)\n",
    "\n",
    "for user, recipe, date, rating, review in interactionsTrain:\n",
    "    rating = int(rating)\n",
    "    interactionsPerUser[user].append((recipe,rating,date,review))\n",
    "    interactionsPerRecipe[recipe].append((user,rating,date,review))"
   ]
  },
  {
   "cell_type": "code",
   "execution_count": 5,
   "id": "cb2b8be0-c888-49be-a7bf-86eacabc7e8a",
   "metadata": {},
   "outputs": [
    {
     "data": {
      "text/plain": [
       "['arriba   baked winter squash mexican style',\n",
       " '137739',\n",
       " '55',\n",
       " '47892',\n",
       " '2005-09-16',\n",
       " \"['60-minutes-or-less', 'time-to-make', 'course', 'main-ingredient', 'cuisine', 'preparation', 'occasion', 'north-american', 'side-dishes', 'vegetables', 'mexican', 'easy', 'fall', 'holiday-event', 'vegetarian', 'winter', 'dietary', 'christmas', 'seasonal', 'squash']\",\n",
       " '[51.5, 0.0, 13.0, 0.0, 2.0, 0.0, 4.0]',\n",
       " '11',\n",
       " \"['make a choice and proceed with recipe', 'depending on size of squash , cut into half or fourths', 'remove seeds', 'for spicy squash , drizzle olive oil or melted butter over each cut squash piece', 'season with mexican seasoning mix ii', 'for sweet squash , drizzle melted honey , butter , grated piloncillo over each cut squash piece', 'season with sweet mexican spice mix', 'bake at 350 degrees , again depending on size , for 40 minutes up to an hour , until a fork can easily pierce the skin', 'be careful not to burn the squash especially if you opt to use sugar or butter', 'if you feel more comfortable , cover the squash with aluminum foil the first half hour , give or take , of baking', 'if desired , season with salt']\",\n",
       " 'autumn is my favorite time of year to cook! this recipe \\ncan be prepared either spicy or sweet, your choice!\\ntwo of my posted mexican-inspired seasoning mix recipes are offered as suggestions.',\n",
       " \"['winter squash', 'mexican seasoning', 'mixed spice', 'honey', 'butter', 'olive oil', 'salt']\",\n",
       " '7']"
      ]
     },
     "execution_count": 5,
     "metadata": {},
     "output_type": "execute_result"
    }
   ],
   "source": [
    "recipe_header, recipes = read_csv('archive/RAW_recipes.csv')\n",
    "recipes[0]"
   ]
  },
  {
   "cell_type": "code",
   "execution_count": 6,
   "id": "39c7c9be-2697-4f2a-9f3d-4d3b21766399",
   "metadata": {},
   "outputs": [],
   "source": [
    "################\n",
    "# User Feature \n",
    "################"
   ]
  },
  {
   "cell_type": "code",
   "execution_count": 7,
   "id": "ebd8fb2a-0f35-4433-831a-0073924759c7",
   "metadata": {},
   "outputs": [],
   "source": [
    "user_feature_vector = {}\n",
    "\n",
    "# Rating distribution (6)\n",
    "# Rating variance (1)\n",
    "# Number of reviews (1)\n",
    "# Time of first review (3)\n",
    "# Time of last review (3)\n",
    "# Average review length (normalized) (1)\n",
    "# Review frequency (per day) (1)\n"
   ]
  },
  {
   "cell_type": "code",
   "execution_count": 8,
   "id": "5b3795e9-1bfc-48c9-82e3-5dafab4e7c00",
   "metadata": {},
   "outputs": [],
   "source": [
    "max_review_length = max([len(i[4]) for i in interactions])\n",
    "\n",
    "# User Feature Per User\n",
    "for user in interactionsPerUser.keys():\n",
    "    user_interactions = interactionsPerUser[user]\n",
    "    features = [0] * 16\n",
    "\n",
    "    for recipe,rating,date,review in user_interactions:\n",
    "        rating = int(rating)\n",
    "        features[rating] += 1\n",
    "\n",
    "    all_ratings = [int(i[1]) for i in user_interactions]\n",
    "    variance = numpy.var(all_ratings)\n",
    "    features[6] = variance\n",
    "\n",
    "    features[7] = len(user_interactions)\n",
    "\n",
    "    all_dates = [datetime.strptime(i[2], '%Y-%m-%d') for i in user_interactions]\n",
    "    all_dates.sort()\n",
    "    # Time of first review\n",
    "    features[8] = all_dates[0].year\n",
    "    features[9] = all_dates[0].month\n",
    "    features[10] = all_dates[0].day\n",
    "    # Time of last review\n",
    "    features[11] = all_dates[-1].year\n",
    "    features[12] = all_dates[-1].month\n",
    "    features[13] = all_dates[-1].day\n",
    "\n",
    "    all_reviews = [i[3] for i in user_interactions]\n",
    "    avg_review_length = sum([len(r) for r in all_reviews]) / len(all_reviews)\n",
    "    features[14] = avg_review_length / max_review_length\n",
    "\n",
    "    day_diff = (all_dates[-1] - all_dates[0]).days\n",
    "    avg_review_per_day = len(all_reviews) / day_diff if day_diff else 0\n",
    "    features[15] = avg_review_per_day\n",
    "\n",
    "    user_feature_vector[user] = features\n",
    "\n",
    "    if None in features:\n",
    "        print(features)"
   ]
  },
  {
   "cell_type": "code",
   "execution_count": 9,
   "id": "c6894f89-b232-4986-afc9-4160fae823ac",
   "metadata": {},
   "outputs": [],
   "source": [
    "################\n",
    "# Recipe Feature \n",
    "################"
   ]
  },
  {
   "cell_type": "code",
   "execution_count": 10,
   "id": "d97f89df-175e-430f-a4fd-ec52510eb9f2",
   "metadata": {
    "scrolled": true
   },
   "outputs": [],
   "source": [
    "recipe_feature_vector = {}\n",
    "\n",
    "# minutes (1)\n",
    "# submitted (3)\n",
    "# tag count (1)\n",
    "# n_steps (1) \n",
    "# steps length (1)\n",
    "# description length (1)\n",
    "# n_ingredients (1)\n",
    "\n",
    "max_step_length = max([len(r[8]) for r in recipes])\n",
    "max_desc_lenth = max([len(r[9]) for r in recipes])\n",
    "\n",
    "for r in recipes:\n",
    "    recipe_id = r[1]\n",
    "    features = [0] * 9\n",
    "\n",
    "    minutes = int(r[2])\n",
    "    submitted = datetime.strptime(r[4], '%Y-%m-%d')\n",
    "    n_tag = len(eval(r[5]))\n",
    "    n_steps = int(r[7])\n",
    "    step_len = len(r[8])\n",
    "    desc_len = len(r[9])\n",
    "    n_ingredients = int(r[11])\n",
    "\n",
    "    features[0] = minutes\n",
    "    features[1] = submitted.year\n",
    "    features[2] = submitted.month\n",
    "    features[3] = submitted.day\n",
    "    features[4] = n_tag\n",
    "    features[5] = n_steps\n",
    "    features[6] = step_len / max_step_length\n",
    "    features[7] = desc_len / max_desc_lenth\n",
    "    features[8] = n_ingredients\n",
    "\n",
    "    recipe_feature_vector[recipe_id] = features\n",
    "\n",
    "    if None in features:\n",
    "            print(features)"
   ]
  },
  {
   "cell_type": "code",
   "execution_count": 11,
   "id": "7a232549-1dab-473f-926e-c6cbe5695c38",
   "metadata": {},
   "outputs": [],
   "source": [
    "def feature(user, recipe):\n",
    "    return [1] + user_feature_vector[user] + recipe_feature_vector[recipe]"
   ]
  },
  {
   "cell_type": "code",
   "execution_count": 49,
   "id": "3c939b93-8573-4e32-93d4-54603e49cf31",
   "metadata": {},
   "outputs": [
    {
     "data": {
      "text/html": [
       "<style>#sk-container-id-9 {color: black;}#sk-container-id-9 pre{padding: 0;}#sk-container-id-9 div.sk-toggleable {background-color: white;}#sk-container-id-9 label.sk-toggleable__label {cursor: pointer;display: block;width: 100%;margin-bottom: 0;padding: 0.3em;box-sizing: border-box;text-align: center;}#sk-container-id-9 label.sk-toggleable__label-arrow:before {content: \"▸\";float: left;margin-right: 0.25em;color: #696969;}#sk-container-id-9 label.sk-toggleable__label-arrow:hover:before {color: black;}#sk-container-id-9 div.sk-estimator:hover label.sk-toggleable__label-arrow:before {color: black;}#sk-container-id-9 div.sk-toggleable__content {max-height: 0;max-width: 0;overflow: hidden;text-align: left;background-color: #f0f8ff;}#sk-container-id-9 div.sk-toggleable__content pre {margin: 0.2em;color: black;border-radius: 0.25em;background-color: #f0f8ff;}#sk-container-id-9 input.sk-toggleable__control:checked~div.sk-toggleable__content {max-height: 200px;max-width: 100%;overflow: auto;}#sk-container-id-9 input.sk-toggleable__control:checked~label.sk-toggleable__label-arrow:before {content: \"▾\";}#sk-container-id-9 div.sk-estimator input.sk-toggleable__control:checked~label.sk-toggleable__label {background-color: #d4ebff;}#sk-container-id-9 div.sk-label input.sk-toggleable__control:checked~label.sk-toggleable__label {background-color: #d4ebff;}#sk-container-id-9 input.sk-hidden--visually {border: 0;clip: rect(1px 1px 1px 1px);clip: rect(1px, 1px, 1px, 1px);height: 1px;margin: -1px;overflow: hidden;padding: 0;position: absolute;width: 1px;}#sk-container-id-9 div.sk-estimator {font-family: monospace;background-color: #f0f8ff;border: 1px dotted black;border-radius: 0.25em;box-sizing: border-box;margin-bottom: 0.5em;}#sk-container-id-9 div.sk-estimator:hover {background-color: #d4ebff;}#sk-container-id-9 div.sk-parallel-item::after {content: \"\";width: 100%;border-bottom: 1px solid gray;flex-grow: 1;}#sk-container-id-9 div.sk-label:hover label.sk-toggleable__label {background-color: #d4ebff;}#sk-container-id-9 div.sk-serial::before {content: \"\";position: absolute;border-left: 1px solid gray;box-sizing: border-box;top: 0;bottom: 0;left: 50%;z-index: 0;}#sk-container-id-9 div.sk-serial {display: flex;flex-direction: column;align-items: center;background-color: white;padding-right: 0.2em;padding-left: 0.2em;position: relative;}#sk-container-id-9 div.sk-item {position: relative;z-index: 1;}#sk-container-id-9 div.sk-parallel {display: flex;align-items: stretch;justify-content: center;background-color: white;position: relative;}#sk-container-id-9 div.sk-item::before, #sk-container-id-9 div.sk-parallel-item::before {content: \"\";position: absolute;border-left: 1px solid gray;box-sizing: border-box;top: 0;bottom: 0;left: 50%;z-index: -1;}#sk-container-id-9 div.sk-parallel-item {display: flex;flex-direction: column;z-index: 1;position: relative;background-color: white;}#sk-container-id-9 div.sk-parallel-item:first-child::after {align-self: flex-end;width: 50%;}#sk-container-id-9 div.sk-parallel-item:last-child::after {align-self: flex-start;width: 50%;}#sk-container-id-9 div.sk-parallel-item:only-child::after {width: 0;}#sk-container-id-9 div.sk-dashed-wrapped {border: 1px dashed gray;margin: 0 0.4em 0.5em 0.4em;box-sizing: border-box;padding-bottom: 0.4em;background-color: white;}#sk-container-id-9 div.sk-label label {font-family: monospace;font-weight: bold;display: inline-block;line-height: 1.2em;}#sk-container-id-9 div.sk-label-container {text-align: center;}#sk-container-id-9 div.sk-container {/* jupyter's `normalize.less` sets `[hidden] { display: none; }` but bootstrap.min.css set `[hidden] { display: none !important; }` so we also need the `!important` here to be able to override the default hidden behavior on the sphinx rendered scikit-learn.org. See: https://github.com/scikit-learn/scikit-learn/issues/21755 */display: inline-block !important;position: relative;}#sk-container-id-9 div.sk-text-repr-fallback {display: none;}</style><div id=\"sk-container-id-9\" class=\"sk-top-container\"><div class=\"sk-text-repr-fallback\"><pre>LogisticRegression(C=2, class_weight=&#x27;balanced&#x27;, max_iter=1000,\n",
       "                   multi_class=&#x27;multinomial&#x27;)</pre><b>In a Jupyter environment, please rerun this cell to show the HTML representation or trust the notebook. <br />On GitHub, the HTML representation is unable to render, please try loading this page with nbviewer.org.</b></div><div class=\"sk-container\" hidden><div class=\"sk-item\"><div class=\"sk-estimator sk-toggleable\"><input class=\"sk-toggleable__control sk-hidden--visually\" id=\"sk-estimator-id-9\" type=\"checkbox\" checked><label for=\"sk-estimator-id-9\" class=\"sk-toggleable__label sk-toggleable__label-arrow\">LogisticRegression</label><div class=\"sk-toggleable__content\"><pre>LogisticRegression(C=2, class_weight=&#x27;balanced&#x27;, max_iter=1000,\n",
       "                   multi_class=&#x27;multinomial&#x27;)</pre></div></div></div></div></div>"
      ],
      "text/plain": [
       "LogisticRegression(C=2, class_weight='balanced', max_iter=1000,\n",
       "                   multi_class='multinomial')"
      ]
     },
     "execution_count": 49,
     "metadata": {},
     "output_type": "execute_result"
    }
   ],
   "source": [
    "# Multinomial logistic regression model\n",
    "model = LogisticRegression(multi_class='multinomial', solver='lbfgs', max_iter=1000, C=2, class_weight='balanced')\n",
    "\n",
    "X_train = [feature(d[0], d[1]) for d in interactionsTrain]\n",
    "y_train = [int(d[3]) for d in interactionsTrain]\n",
    "\n",
    "# Train the model\n",
    "scaler = StandardScaler()\n",
    "model.fit(scaler.fit_transform(X_train), y_train)\n",
    "\n",
    "# X_test = [feature(d[0], d[1]) for d in interactionsValid]\n",
    "# y_test = [int(d[2]) for d in interactionsValid]\n",
    "# y_test_pred = model.predict(X_test)  # These are the most probable classes (ratings) for each input\n"
   ]
  },
  {
   "cell_type": "code",
   "execution_count": 50,
   "id": "667105e4-80f3-4c04-8eb7-ad73c651a0e5",
   "metadata": {},
   "outputs": [
    {
     "data": {
      "text/plain": [
       "0.7260460269520832"
      ]
     },
     "execution_count": 50,
     "metadata": {},
     "output_type": "execute_result"
    }
   ],
   "source": [
    "# X_test = [feature(d[0], d[1]) for d in interactionsValid]\n",
    "y_test = [int(d[3]) for d in interactionsValid]\n",
    "y_test_pred_lr = []\n",
    "\n",
    "for user, recipe, date, rating, review in interactionsValid:\n",
    "    if user not in user_feature_vector or recipe not in recipe_feature_vector:\n",
    "        pred = 5\n",
    "    else:\n",
    "        pred = model.predict(scaler.fit_transform([feature(user, recipe)]))[0]\n",
    "    y_test_pred_lr.append(pred)\n",
    "\n",
    "sum(1 for x,y in zip(y_test, y_test_pred_lr) if x == y) / len(y_test)"
   ]
  },
  {
   "cell_type": "code",
   "execution_count": 47,
   "id": "ccbeaadf-b853-4a0e-b671-9edbe7022294",
   "metadata": {},
   "outputs": [
    {
     "data": {
      "text/plain": [
       "0.7260460269520832"
      ]
     },
     "execution_count": 47,
     "metadata": {},
     "output_type": "execute_result"
    }
   ],
   "source": [
    "y_test_pred_base = [5] * len(y_test)\n",
    "sum(1 for x,y in zip(y_test, y_test_pred_base) if x == y) / len(y_test)"
   ]
  },
  {
   "cell_type": "code",
   "execution_count": 48,
   "id": "9b1f4684-209f-4669-a0bd-82e7e675bfbc",
   "metadata": {},
   "outputs": [
    {
     "data": {
      "text/plain": [
       "True"
      ]
     },
     "execution_count": 48,
     "metadata": {},
     "output_type": "execute_result"
    }
   ],
   "source": [
    "y_test_pred_lr == y_test_pred_base"
   ]
  },
  {
   "cell_type": "code",
   "execution_count": 51,
   "id": "de50bb60-05a9-4fe5-bb62-5d84d154f662",
   "metadata": {},
   "outputs": [
    {
     "name": "stdout",
     "output_type": "stream",
     "text": [
      "Original dataset shape: Counter({5: 775256, 4: 178113, 0: 57952, 3: 38768, 2: 13421, 1: 12238})\n",
      "Resampled dataset shape: Counter({4: 775256, 5: 775256, 0: 775256, 2: 775256, 3: 775256, 1: 775256})\n"
     ]
    },
    {
     "data": {
      "text/plain": [
       "0.7260460269520832"
      ]
     },
     "execution_count": 51,
     "metadata": {},
     "output_type": "execute_result"
    }
   ],
   "source": [
    "from imblearn.over_sampling import SMOTE\n",
    "from collections import Counter\n",
    "\n",
    "print('Original dataset shape:', Counter(y_train))\n",
    "\n",
    "smote = SMOTE()\n",
    "X_train_resampled, y_train_resampled = smote.fit_resample(scaler.fit_transform(X_train), y_train)\n",
    "\n",
    "print('Resampled dataset shape:', Counter(y_train_resampled))\n",
    "\n",
    "model.fit(X_train_resampled, y_train_resampled)\n",
    "\n",
    "y_test = [int(d[3]) for d in interactionsValid]\n",
    "y_test_pred_lr = []\n",
    "\n",
    "for user, recipe, date, rating, review in interactionsValid:\n",
    "    if user not in user_feature_vector or recipe not in recipe_feature_vector:\n",
    "        pred = 5\n",
    "    else:\n",
    "        pred = model.predict(scaler.fit_transform([feature(user, recipe)]))[0]\n",
    "    y_test_pred_lr.append(pred)\n",
    "\n",
    "sum(1 for x,y in zip(y_test, y_test_pred_lr) if x == y) / len(y_test)"
   ]
  },
  {
   "cell_type": "code",
   "execution_count": null,
   "id": "1df15dc5-3691-4ea3-999a-41af7424892b",
   "metadata": {},
   "outputs": [],
   "source": []
  }
 ],
 "metadata": {
  "kernelspec": {
   "display_name": "Python 3 (ipykernel)",
   "language": "python",
   "name": "python3"
  },
  "language_info": {
   "codemirror_mode": {
    "name": "ipython",
    "version": 3
   },
   "file_extension": ".py",
   "mimetype": "text/x-python",
   "name": "python",
   "nbconvert_exporter": "python",
   "pygments_lexer": "ipython3",
   "version": "3.10.13"
  }
 },
 "nbformat": 4,
 "nbformat_minor": 5
}
