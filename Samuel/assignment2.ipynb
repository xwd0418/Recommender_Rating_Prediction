{
 "cells": [
  {
   "cell_type": "code",
   "execution_count": 230,
   "id": "f1328224-03be-4b02-a631-d25b793dfdd7",
   "metadata": {},
   "outputs": [],
   "source": [
    "import csv\n",
    "import matplotlib.pyplot as plt\n",
    "import matplotlib.colors as mcolors\n",
    "\n",
    "from collections import defaultdict\n",
    "from datetime import datetime\n",
    "\n",
    "import numpy\n",
    "import scipy.optimize\n",
    "from sklearn.linear_model import LogisticRegression, Ridge\n",
    "from sklearn.linear_model import LinearRegression\n",
    "from sklearn.preprocessing import StandardScaler\n"
   ]
  },
  {
   "cell_type": "code",
   "execution_count": 105,
   "id": "475d8bcc-dc03-4dba-aca2-eaf37f6c97bc",
   "metadata": {},
   "outputs": [],
   "source": [
    "def read_csv(path):\n",
    "    rows = []\n",
    "    with open(path, 'r') as file:\n",
    "        csvreader = csv.reader(file)\n",
    "        header = next(csvreader)\n",
    "        for row in csvreader:\n",
    "            rows.append(row)\n",
    "    return header, rows"
   ]
  },
  {
   "cell_type": "code",
   "execution_count": 106,
   "id": "6f776fa1-0864-4a0c-a2e3-e72eb1a43890",
   "metadata": {},
   "outputs": [
    {
     "data": {
      "text/plain": [
       "['38094',\n",
       " '40893',\n",
       " '2003-02-17',\n",
       " '4',\n",
       " 'Great with a salad. Cooked on top of stove for 15 minutes.Added a shake of cayenne and a pinch of salt.  Used low fat sour cream.  Thanks.']"
      ]
     },
     "execution_count": 106,
     "metadata": {},
     "output_type": "execute_result"
    }
   ],
   "source": [
    "interaction_header, interactions = read_csv('../archive/RAW_interactions.csv')\n",
    "interactions[0]"
   ]
  },
  {
   "cell_type": "code",
   "execution_count": 107,
   "id": "7f9b86de-54fd-4c4e-9b0d-379017c9cd6c",
   "metadata": {},
   "outputs": [],
   "source": [
    "n_interactions = len(interactions)\n",
    "\n",
    "interactionsTrain = interactions[:int(n_interactions * 0.95)]\n",
    "interactionsValid = interactions[int(n_interactions * 0.95):]\n",
    "\n",
    "interactionsPerUser = defaultdict(list)\n",
    "interactionsPerRecipe = defaultdict(list)\n",
    "\n",
    "for user, recipe, date, rating, review in interactionsTrain:\n",
    "    rating = int(rating)\n",
    "    interactionsPerUser[user].append((recipe,rating,date,review))\n",
    "    interactionsPerRecipe[recipe].append((user,rating,date,review))"
   ]
  },
  {
   "cell_type": "code",
   "execution_count": 108,
   "id": "cb2b8be0-c888-49be-a7bf-86eacabc7e8a",
   "metadata": {},
   "outputs": [
    {
     "data": {
      "text/plain": [
       "['arriba   baked winter squash mexican style',\n",
       " '137739',\n",
       " '55',\n",
       " '47892',\n",
       " '2005-09-16',\n",
       " \"['60-minutes-or-less', 'time-to-make', 'course', 'main-ingredient', 'cuisine', 'preparation', 'occasion', 'north-american', 'side-dishes', 'vegetables', 'mexican', 'easy', 'fall', 'holiday-event', 'vegetarian', 'winter', 'dietary', 'christmas', 'seasonal', 'squash']\",\n",
       " '[51.5, 0.0, 13.0, 0.0, 2.0, 0.0, 4.0]',\n",
       " '11',\n",
       " \"['make a choice and proceed with recipe', 'depending on size of squash , cut into half or fourths', 'remove seeds', 'for spicy squash , drizzle olive oil or melted butter over each cut squash piece', 'season with mexican seasoning mix ii', 'for sweet squash , drizzle melted honey , butter , grated piloncillo over each cut squash piece', 'season with sweet mexican spice mix', 'bake at 350 degrees , again depending on size , for 40 minutes up to an hour , until a fork can easily pierce the skin', 'be careful not to burn the squash especially if you opt to use sugar or butter', 'if you feel more comfortable , cover the squash with aluminum foil the first half hour , give or take , of baking', 'if desired , season with salt']\",\n",
       " 'autumn is my favorite time of year to cook! this recipe \\ncan be prepared either spicy or sweet, your choice!\\ntwo of my posted mexican-inspired seasoning mix recipes are offered as suggestions.',\n",
       " \"['winter squash', 'mexican seasoning', 'mixed spice', 'honey', 'butter', 'olive oil', 'salt']\",\n",
       " '7']"
      ]
     },
     "execution_count": 108,
     "metadata": {},
     "output_type": "execute_result"
    }
   ],
   "source": [
    "recipe_header, recipes = read_csv('../archive/RAW_recipes.csv')\n",
    "recipes[0]"
   ]
  },
  {
   "cell_type": "code",
   "execution_count": 109,
   "id": "39c7c9be-2697-4f2a-9f3d-4d3b21766399",
   "metadata": {},
   "outputs": [],
   "source": [
    "################\n",
    "# User Feature \n",
    "################"
   ]
  },
  {
   "cell_type": "code",
   "execution_count": 110,
   "id": "ebd8fb2a-0f35-4433-831a-0073924759c7",
   "metadata": {},
   "outputs": [],
   "source": [
    "user_feature_vector = {}\n",
    "\n",
    "# Rating distribution (6)\n",
    "# Rating variance (1)\n",
    "# Number of reviews (1)\n",
    "# Time of first review (3)\n",
    "# Time of last review (3)\n",
    "# Average review length (normalized) (1)\n",
    "# Review frequency (per day) (1)\n"
   ]
  },
  {
   "cell_type": "code",
   "execution_count": 111,
   "id": "5b3795e9-1bfc-48c9-82e3-5dafab4e7c00",
   "metadata": {},
   "outputs": [],
   "source": [
    "max_review_length = max([len(i[4]) for i in interactions])\n",
    "\n",
    "# User Feature Per User\n",
    "for user in interactionsPerUser.keys():\n",
    "    user_interactions = interactionsPerUser[user]\n",
    "    features = [0] * 16\n",
    "\n",
    "    for recipe,rating,date,review in user_interactions:\n",
    "        rating = int(rating)\n",
    "        features[rating] += 1\n",
    "\n",
    "    all_ratings = [int(i[1]) for i in user_interactions]\n",
    "    variance = numpy.var(all_ratings)\n",
    "    features[6] = variance\n",
    "\n",
    "    features[7] = len(user_interactions)\n",
    "\n",
    "    all_dates = [datetime.strptime(i[2], '%Y-%m-%d') for i in user_interactions]\n",
    "    all_dates.sort()\n",
    "    # Time of first review\n",
    "    features[8] = all_dates[0].year\n",
    "    features[9] = all_dates[0].month\n",
    "    features[10] = all_dates[0].day\n",
    "    # Time of last review\n",
    "    features[11] = all_dates[-1].year\n",
    "    features[12] = all_dates[-1].month\n",
    "    features[13] = all_dates[-1].day\n",
    "\n",
    "    all_reviews = [i[3] for i in user_interactions]\n",
    "    avg_review_length = sum([len(r) for r in all_reviews]) / len(all_reviews)\n",
    "    features[14] = avg_review_length / max_review_length\n",
    "\n",
    "    day_diff = (all_dates[-1] - all_dates[0]).days\n",
    "    avg_review_per_day = len(all_reviews) / day_diff if day_diff else 0\n",
    "    features[15] = avg_review_per_day\n",
    "\n",
    "    user_feature_vector[user] = features\n",
    "\n",
    "    if None in features:\n",
    "        print(features)"
   ]
  },
  {
   "cell_type": "code",
   "execution_count": 112,
   "id": "c6894f89-b232-4986-afc9-4160fae823ac",
   "metadata": {},
   "outputs": [],
   "source": [
    "################\n",
    "# Recipe Feature \n",
    "################"
   ]
  },
  {
   "cell_type": "code",
   "execution_count": 113,
   "id": "d97f89df-175e-430f-a4fd-ec52510eb9f2",
   "metadata": {
    "scrolled": true
   },
   "outputs": [],
   "source": [
    "recipe_feature_vector = {}\n",
    "\n",
    "# minutes (1)\n",
    "# submitted (3)\n",
    "# tag count (1)\n",
    "# n_steps (1) \n",
    "# steps length (1)\n",
    "# description length (1)\n",
    "# n_ingredients (1)\n",
    "\n",
    "max_step_length = max([len(r[8]) for r in recipes])\n",
    "max_desc_lenth = max([len(r[9]) for r in recipes])\n",
    "\n",
    "for r in recipes:\n",
    "    recipe_id = r[1]\n",
    "    features = [0] * 9\n",
    "\n",
    "    minutes = int(r[2])\n",
    "    submitted = datetime.strptime(r[4], '%Y-%m-%d')\n",
    "    n_tag = len(eval(r[5]))\n",
    "    n_steps = int(r[7])\n",
    "    step_len = len(r[8])\n",
    "    desc_len = len(r[9])\n",
    "    n_ingredients = int(r[11])\n",
    "\n",
    "    features[0] = minutes\n",
    "    features[1] = submitted.year\n",
    "    features[2] = submitted.month\n",
    "    features[3] = submitted.day\n",
    "    features[4] = n_tag\n",
    "    features[5] = n_steps\n",
    "    features[6] = step_len / max_step_length\n",
    "    features[7] = desc_len / max_desc_lenth\n",
    "    features[8] = n_ingredients\n",
    "\n",
    "    recipe_feature_vector[recipe_id] = features\n",
    "\n",
    "    if None in features:\n",
    "            print(features)"
   ]
  },
  {
   "cell_type": "code",
   "execution_count": 114,
   "id": "7a232549-1dab-473f-926e-c6cbe5695c38",
   "metadata": {},
   "outputs": [],
   "source": [
    "def feature(user, recipe):\n",
    "    return [1] + user_feature_vector[user] + recipe_feature_vector[recipe]"
   ]
  },
  {
   "cell_type": "code",
   "execution_count": 141,
   "id": "3c939b93-8573-4e32-93d4-54603e49cf31",
   "metadata": {},
   "outputs": [],
   "source": [
    "# Multinomial logistic regression model\n",
    "\n",
    "X_train = [feature(d[0], d[1]) for d in interactionsTrain]\n",
    "y_train = [int(d[3]) for d in interactionsTrain]\n",
    "\n",
    "\n"
   ]
  },
  {
   "cell_type": "code",
   "execution_count": 231,
   "metadata": {},
   "outputs": [],
   "source": [
    "# model = LogisticRegression(multi_class='multinomial', solver='lbfgs', max_iter=1000, C=2, class_weight='balanced')\n",
    "model = Ridge()"
   ]
  },
  {
   "cell_type": "code",
   "execution_count": 232,
   "metadata": {},
   "outputs": [
    {
     "data": {
      "text/html": [
       "<style>#sk-container-id-23 {color: black;}#sk-container-id-23 pre{padding: 0;}#sk-container-id-23 div.sk-toggleable {background-color: white;}#sk-container-id-23 label.sk-toggleable__label {cursor: pointer;display: block;width: 100%;margin-bottom: 0;padding: 0.3em;box-sizing: border-box;text-align: center;}#sk-container-id-23 label.sk-toggleable__label-arrow:before {content: \"▸\";float: left;margin-right: 0.25em;color: #696969;}#sk-container-id-23 label.sk-toggleable__label-arrow:hover:before {color: black;}#sk-container-id-23 div.sk-estimator:hover label.sk-toggleable__label-arrow:before {color: black;}#sk-container-id-23 div.sk-toggleable__content {max-height: 0;max-width: 0;overflow: hidden;text-align: left;background-color: #f0f8ff;}#sk-container-id-23 div.sk-toggleable__content pre {margin: 0.2em;color: black;border-radius: 0.25em;background-color: #f0f8ff;}#sk-container-id-23 input.sk-toggleable__control:checked~div.sk-toggleable__content {max-height: 200px;max-width: 100%;overflow: auto;}#sk-container-id-23 input.sk-toggleable__control:checked~label.sk-toggleable__label-arrow:before {content: \"▾\";}#sk-container-id-23 div.sk-estimator input.sk-toggleable__control:checked~label.sk-toggleable__label {background-color: #d4ebff;}#sk-container-id-23 div.sk-label input.sk-toggleable__control:checked~label.sk-toggleable__label {background-color: #d4ebff;}#sk-container-id-23 input.sk-hidden--visually {border: 0;clip: rect(1px 1px 1px 1px);clip: rect(1px, 1px, 1px, 1px);height: 1px;margin: -1px;overflow: hidden;padding: 0;position: absolute;width: 1px;}#sk-container-id-23 div.sk-estimator {font-family: monospace;background-color: #f0f8ff;border: 1px dotted black;border-radius: 0.25em;box-sizing: border-box;margin-bottom: 0.5em;}#sk-container-id-23 div.sk-estimator:hover {background-color: #d4ebff;}#sk-container-id-23 div.sk-parallel-item::after {content: \"\";width: 100%;border-bottom: 1px solid gray;flex-grow: 1;}#sk-container-id-23 div.sk-label:hover label.sk-toggleable__label {background-color: #d4ebff;}#sk-container-id-23 div.sk-serial::before {content: \"\";position: absolute;border-left: 1px solid gray;box-sizing: border-box;top: 0;bottom: 0;left: 50%;z-index: 0;}#sk-container-id-23 div.sk-serial {display: flex;flex-direction: column;align-items: center;background-color: white;padding-right: 0.2em;padding-left: 0.2em;position: relative;}#sk-container-id-23 div.sk-item {position: relative;z-index: 1;}#sk-container-id-23 div.sk-parallel {display: flex;align-items: stretch;justify-content: center;background-color: white;position: relative;}#sk-container-id-23 div.sk-item::before, #sk-container-id-23 div.sk-parallel-item::before {content: \"\";position: absolute;border-left: 1px solid gray;box-sizing: border-box;top: 0;bottom: 0;left: 50%;z-index: -1;}#sk-container-id-23 div.sk-parallel-item {display: flex;flex-direction: column;z-index: 1;position: relative;background-color: white;}#sk-container-id-23 div.sk-parallel-item:first-child::after {align-self: flex-end;width: 50%;}#sk-container-id-23 div.sk-parallel-item:last-child::after {align-self: flex-start;width: 50%;}#sk-container-id-23 div.sk-parallel-item:only-child::after {width: 0;}#sk-container-id-23 div.sk-dashed-wrapped {border: 1px dashed gray;margin: 0 0.4em 0.5em 0.4em;box-sizing: border-box;padding-bottom: 0.4em;background-color: white;}#sk-container-id-23 div.sk-label label {font-family: monospace;font-weight: bold;display: inline-block;line-height: 1.2em;}#sk-container-id-23 div.sk-label-container {text-align: center;}#sk-container-id-23 div.sk-container {/* jupyter's `normalize.less` sets `[hidden] { display: none; }` but bootstrap.min.css set `[hidden] { display: none !important; }` so we also need the `!important` here to be able to override the default hidden behavior on the sphinx rendered scikit-learn.org. See: https://github.com/scikit-learn/scikit-learn/issues/21755 */display: inline-block !important;position: relative;}#sk-container-id-23 div.sk-text-repr-fallback {display: none;}</style><div id=\"sk-container-id-23\" class=\"sk-top-container\"><div class=\"sk-text-repr-fallback\"><pre>Ridge()</pre><b>In a Jupyter environment, please rerun this cell to show the HTML representation or trust the notebook. <br />On GitHub, the HTML representation is unable to render, please try loading this page with nbviewer.org.</b></div><div class=\"sk-container\" hidden><div class=\"sk-item\"><div class=\"sk-estimator sk-toggleable\"><input class=\"sk-toggleable__control sk-hidden--visually\" id=\"sk-estimator-id-23\" type=\"checkbox\" checked><label for=\"sk-estimator-id-23\" class=\"sk-toggleable__label sk-toggleable__label-arrow\">Ridge</label><div class=\"sk-toggleable__content\"><pre>Ridge()</pre></div></div></div></div></div>"
      ],
      "text/plain": [
       "Ridge()"
      ]
     },
     "execution_count": 232,
     "metadata": {},
     "output_type": "execute_result"
    }
   ],
   "source": [
    "\n",
    "# Train the model\n",
    "scaler = StandardScaler()\n",
    "transformed_train_X = scaler.fit_transform(X_train)\n",
    "# transformed_train_X[:,0] = numpy.ones(len(transformed_train_X)) \n",
    "model.fit(transformed_train_X, y_train)\n",
    "\n",
    "# X_test = [feature(d[0], d[1]) for d in interactionsValid]\n",
    "# y_test = [int(d[2]) for d in interactionsValid]\n",
    "# y_test_pred = model.predict(X_test)  # These are the most probable classes (ratings) for each input"
   ]
  },
  {
   "cell_type": "code",
   "execution_count": 233,
   "metadata": {},
   "outputs": [
    {
     "data": {
      "text/plain": [
       "array([[ 0.        , -0.39205845, -0.3007464 , -0.40093401, -0.43588856,\n",
       "        -0.45630743, -0.40763083, -0.56172569, -0.44949165, -1.27394596,\n",
       "        -0.11631279, -0.6618398 , -2.33329588, -1.06543961, -0.0945539 ,\n",
       "        -0.55800889, -0.32878167, -0.00416058, -1.05448726,  0.79132227,\n",
       "         0.61877672, -0.85906063, -0.96720524, -0.79839288, -0.94345562,\n",
       "         0.01053673]])"
      ]
     },
     "execution_count": 233,
     "metadata": {},
     "output_type": "execute_result"
    }
   ],
   "source": [
    "a = transformed_train_X[0:1]\n",
    "a"
   ]
  },
  {
   "cell_type": "code",
   "execution_count": 234,
   "metadata": {},
   "outputs": [
    {
     "data": {
      "text/plain": [
       "array([4.79888364])"
      ]
     },
     "execution_count": 234,
     "metadata": {},
     "output_type": "execute_result"
    }
   ],
   "source": [
    "b = numpy.array([[ 0.        , -0.39205845, -0.3007464 , -0.40093401, -0.43588856,\n",
    "        -0.45630743, -0.40763083, -0.56172569, -0.44949165, -1.27394596,\n",
    "        -0.11631279, -0.6618398 , -2.33329588, -1.06543961, -0.0945539 ,\n",
    "        -0.55800889, -0.32878167, -0.00416058, -1.05448726,  0.79132227,\n",
    "         0.61877672, -0.85906063, -0.96720524, -0.79839288, -0.94345562,\n",
    "         0.01053673]])\n",
    "model.predict(b)"
   ]
  },
  {
   "cell_type": "code",
   "execution_count": 229,
   "metadata": {},
   "outputs": [
    {
     "data": {
      "text/plain": [
       "array([[ True, False, False, False, False, False, False, False, False,\n",
       "        False, False, False, False, False, False, False, False, False,\n",
       "        False, False, False, False, False, False, False, False]])"
      ]
     },
     "execution_count": 229,
     "metadata": {},
     "output_type": "execute_result"
    }
   ],
   "source": [
    "a==b"
   ]
  },
  {
   "cell_type": "code",
   "execution_count": 235,
   "metadata": {},
   "outputs": [
    {
     "data": {
      "text/plain": [
       "array([4.79888364])"
      ]
     },
     "execution_count": 235,
     "metadata": {},
     "output_type": "execute_result"
    }
   ],
   "source": [
    "model.predict(transformed_train_X[0:1])"
   ]
  },
  {
   "cell_type": "code",
   "execution_count": 236,
   "metadata": {},
   "outputs": [
    {
     "data": {
      "text/plain": [
       "0.4602118711817266"
      ]
     },
     "execution_count": 236,
     "metadata": {},
     "output_type": "execute_result"
    }
   ],
   "source": [
    "train_preds = model.predict(transformed_train_X)\n",
    "(numpy.clip(numpy.round(train_preds), 0, 5) == y_train).mean()"
   ]
  },
  {
   "cell_type": "code",
   "execution_count": 204,
   "metadata": {},
   "outputs": [
    {
     "data": {
      "text/plain": [
       "[4, 5, 4, 5, 5, 4, 0, 2, 4, 5]"
      ]
     },
     "execution_count": 204,
     "metadata": {},
     "output_type": "execute_result"
    }
   ],
   "source": [
    "y_train[:10]"
   ]
  },
  {
   "cell_type": "code",
   "execution_count": 205,
   "metadata": {},
   "outputs": [
    {
     "data": {
      "text/plain": [
       "array([4.79878217, 3.97047722, 4.728212  , 4.93987399, 4.80087692,\n",
       "       4.72313768, 4.16548774, 3.96354634, 4.49810094, 4.52483004])"
      ]
     },
     "execution_count": 205,
     "metadata": {},
     "output_type": "execute_result"
    }
   ],
   "source": [
    "train_preds [:10]"
   ]
  },
  {
   "cell_type": "code",
   "execution_count": null,
   "metadata": {},
   "outputs": [],
   "source": []
  },
  {
   "cell_type": "code",
   "execution_count": 237,
   "id": "667105e4-80f3-4c04-8eb7-ad73c651a0e5",
   "metadata": {},
   "outputs": [
    {
     "data": {
      "text/plain": [
       "0.24046698104876454"
      ]
     },
     "execution_count": 237,
     "metadata": {},
     "output_type": "execute_result"
    }
   ],
   "source": [
    "# X_test = [feature(d[0], d[1]) for d in interactionsValid]\n",
    "y_test = [int(d[3]) for d in interactionsValid]\n",
    "y_test_pred_lr = []\n",
    "\n",
    "for user, recipe, date, rating, review in interactionsValid:\n",
    "    if user not in user_feature_vector or recipe not in recipe_feature_vector:\n",
    "        pred = 5\n",
    "    else:\n",
    "        transformed = scaler.transform([feature(user, recipe)])\n",
    "        transformed[0] = 1 # bias term\n",
    "        pred = model.predict(transformed)[0]\n",
    "    y_test_pred_lr.append(pred)\n",
    "\n",
    "# sum(1 for x,y in zip(y_test, y_test_pred_lr) if x == y) / len(y_test)\n",
    "(numpy.clip(numpy.round(y_test_pred_lr), 0, 5) == y_test).mean()"
   ]
  },
  {
   "cell_type": "code",
   "execution_count": 154,
   "metadata": {},
   "outputs": [
    {
     "data": {
      "text/plain": [
       "'5'"
      ]
     },
     "metadata": {},
     "output_type": "display_data"
    },
    {
     "data": {
      "text/plain": [
       "array([[ 0.        , -0.12286057, -0.3007464 , -0.13236927,  0.66957265,\n",
       "         1.18251579,  3.5273818 , -0.59953443,  3.31007899, -0.74052138,\n",
       "        -0.95344617, -1.58930651,  1.4842169 ,  1.19417764, -0.99410289,\n",
       "         0.47841405,  1.5404121 , -0.00421243,  2.04561596, -0.66368648,\n",
       "        -1.20491032, -1.25757757, -0.27780187,  0.02414115,  0.51318233,\n",
       "        -0.26065834]])"
      ]
     },
     "metadata": {},
     "output_type": "display_data"
    },
    {
     "data": {
      "text/plain": [
       "'5'"
      ]
     },
     "metadata": {},
     "output_type": "display_data"
    },
    {
     "data": {
      "text/plain": [
       "array([[ 0.        , -0.05556109, -0.3007464 , -0.40093401, -0.09574665,\n",
       "         0.31758131,  2.57396464, -0.61920167,  2.31513839, -0.20709681,\n",
       "        -0.11631279,  0.72936028,  1.4842169 ,  1.4766298 , -0.20699752,\n",
       "        -0.48444463,  1.27492607, -0.00421243,  2.04561596, -0.66368648,\n",
       "        -1.20491032, -1.25757757, -0.27780187,  0.02414115,  0.51318233,\n",
       "        -0.26065834]])"
      ]
     },
     "metadata": {},
     "output_type": "display_data"
    },
    {
     "data": {
      "text/plain": [
       "'4'"
      ]
     },
     "metadata": {},
     "output_type": "display_data"
    },
    {
     "data": {
      "text/plain": [
       "array([[ 0.00000000e+00, -2.57459506e-01, -3.00746403e-01,\n",
       "        -4.00934015e-01, -1.80782125e-01,  4.61624064e+00,\n",
       "         1.52347228e+00, -4.76943812e-01,  2.05722858e+00,\n",
       "         5.96154829e-02, -3.95357252e-01, -5.45906458e-01,\n",
       "         3.93498964e-01, -5.00535296e-01, -2.06997520e-01,\n",
       "        -1.43771003e-01,  2.34913049e+00, -4.21243272e-03,\n",
       "         2.04561596e+00, -6.63686484e-01, -1.20491032e+00,\n",
       "        -1.25757757e+00, -2.77801874e-01,  2.41411491e-02,\n",
       "         5.13182329e-01, -2.60658342e-01]])"
      ]
     },
     "metadata": {},
     "output_type": "display_data"
    }
   ],
   "source": [
    "for user, recipe, date, rating, review in interactionsValid[:3]:\n",
    "  display(rating)  \n",
    "  display( (scaler.transform([feature(user, recipe)])))"
   ]
  },
  {
   "cell_type": "code",
   "execution_count": 160,
   "metadata": {},
   "outputs": [
    {
     "data": {
      "text/plain": [
       "array([1.12588168])"
      ]
     },
     "execution_count": 160,
     "metadata": {},
     "output_type": "execute_result"
    }
   ],
   "source": [
    "a = numpy.array([[ 1.        , -0.25745951, -0.3007464 , -0.40093401, -0.43588856,\n",
    "        -0.47581723, -0.39029597,  0.38529547, -0.43521996,  0.85975235,\n",
    "         1.55795395, -0.42997312, -0.42453949,  1.4766298 ,  1.02988234,\n",
    "        -0.2302076 , -0.12338489, -0.00416058, -1.05448726,  0.79132227,\n",
    "         0.61877672, -0.85906063, -0.96720524, -0.79839288, -0.94345562,\n",
    "         0.01053673]])\n",
    "model.predict(a)"
   ]
  },
  {
   "cell_type": "code",
   "execution_count": 155,
   "metadata": {},
   "outputs": [
    {
     "data": {
      "text/plain": [
       "'4'"
      ]
     },
     "metadata": {},
     "output_type": "display_data"
    },
    {
     "data": {
      "text/plain": [
       "array([[ 0.        , -0.39205845, -0.3007464 , -0.40093401, -0.43588856,\n",
       "        -0.45630743, -0.40763083, -0.56172569, -0.44949165, -1.27394596,\n",
       "        -0.11631279, -0.6618398 , -2.33329588, -1.06543961, -0.0945539 ,\n",
       "        -0.55800889, -0.32878167, -0.00416058, -1.05448726,  0.79132227,\n",
       "         0.61877672, -0.85906063, -0.96720524, -0.79839288, -0.94345562,\n",
       "         0.01053673]])"
      ]
     },
     "metadata": {},
     "output_type": "display_data"
    },
    {
     "data": {
      "text/plain": [
       "'5'"
      ]
     },
     "metadata": {},
     "output_type": "display_data"
    },
    {
     "data": {
      "text/plain": [
       "array([[ 0.        , -0.25745951, -0.3007464 , -0.40093401, -0.43588856,\n",
       "        -0.47581723, -0.39029597,  0.38529547, -0.43521996,  0.85975235,\n",
       "         1.55795395, -0.42997312, -0.42453949,  1.4766298 ,  1.02988234,\n",
       "        -0.2302076 , -0.12338489, -0.00416058, -1.05448726,  0.79132227,\n",
       "         0.61877672, -0.85906063, -0.96720524, -0.79839288, -0.94345562,\n",
       "         0.01053673]])"
      ]
     },
     "metadata": {},
     "output_type": "display_data"
    },
    {
     "data": {
      "text/plain": [
       "'4'"
      ]
     },
     "metadata": {},
     "output_type": "display_data"
    },
    {
     "data": {
      "text/plain": [
       "array([[ 0.        , -0.39205845, -0.3007464 , -0.40093401, -0.39337082,\n",
       "        -0.3652617 , -0.427277  , -0.46483316, -0.45153046, -1.27394596,\n",
       "         1.27890949,  1.30902697, -2.60597537,  0.34682117,  0.46766422,\n",
       "        -0.65212199, -0.15242293, -0.00421321, -1.05448726,  1.08232402,\n",
       "         1.30265937,  3.12610877, -0.7948544 , -0.85459086, -1.07114791,\n",
       "        -1.34543864]])"
      ]
     },
     "metadata": {},
     "output_type": "display_data"
    }
   ],
   "source": [
    "for user, recipe, date, rating, review in interactionsTrain[:3]:\n",
    "  display(rating)  \n",
    "  display( (scaler.transform([feature(user, recipe)])))"
   ]
  },
  {
   "cell_type": "code",
   "execution_count": 152,
   "metadata": {},
   "outputs": [
    {
     "data": {
      "text/plain": [
       "[-578832465.332674,\n",
       " -578832465.332674,\n",
       " -578832465.332674,\n",
       " -578832465.332674,\n",
       " -578832465.332674,\n",
       " -578832465.332674,\n",
       " -578832465.332674,\n",
       " -578832465.332674,\n",
       " -578832465.332674,\n",
       " -578832465.332674]"
      ]
     },
     "execution_count": 152,
     "metadata": {},
     "output_type": "execute_result"
    }
   ],
   "source": [
    "y_test_pred_lr[0:10]"
   ]
  },
  {
   "cell_type": "code",
   "execution_count": null,
   "metadata": {},
   "outputs": [],
   "source": []
  },
  {
   "cell_type": "code",
   "execution_count": 117,
   "id": "ccbeaadf-b853-4a0e-b671-9edbe7022294",
   "metadata": {},
   "outputs": [
    {
     "data": {
      "text/plain": [
       "0.7260460269520832"
      ]
     },
     "execution_count": 117,
     "metadata": {},
     "output_type": "execute_result"
    }
   ],
   "source": [
    "y_test_pred_base = [5] * len(y_test)\n",
    "sum(1 for x,y in zip(y_test, y_test_pred_base) if x == y) / len(y_test)"
   ]
  },
  {
   "cell_type": "code",
   "execution_count": 118,
   "id": "9b1f4684-209f-4669-a0bd-82e7e675bfbc",
   "metadata": {},
   "outputs": [
    {
     "data": {
      "text/plain": [
       "True"
      ]
     },
     "execution_count": 118,
     "metadata": {},
     "output_type": "execute_result"
    }
   ],
   "source": [
    "y_test_pred_lr == y_test_pred_base"
   ]
  },
  {
   "cell_type": "code",
   "execution_count": 119,
   "id": "de50bb60-05a9-4fe5-bb62-5d84d154f662",
   "metadata": {},
   "outputs": [
    {
     "ename": "ImportError",
     "evalue": "cannot import name '_MissingValues' from 'sklearn.utils._param_validation' (c:\\Users\\Lenovo\\anaconda3\\lib\\site-packages\\sklearn\\utils\\_param_validation.py)",
     "output_type": "error",
     "traceback": [
      "\u001b[1;31m---------------------------------------------------------------------------\u001b[0m",
      "\u001b[1;31mImportError\u001b[0m                               Traceback (most recent call last)",
      "\u001b[1;32mc:\\Users\\Lenovo\\Desktop\\cse258\\assignment2\\Samuel\\assignment2.ipynb Cell 16\u001b[0m line \u001b[0;36m1\n\u001b[1;32m----> <a href='vscode-notebook-cell:/c%3A/Users/Lenovo/Desktop/cse258/assignment2/Samuel/assignment2.ipynb#X63sZmlsZQ%3D%3D?line=0'>1</a>\u001b[0m \u001b[39mfrom\u001b[39;00m \u001b[39mimblearn\u001b[39;00m\u001b[39m.\u001b[39;00m\u001b[39mover_sampling\u001b[39;00m \u001b[39mimport\u001b[39;00m SMOTE\n\u001b[0;32m      <a href='vscode-notebook-cell:/c%3A/Users/Lenovo/Desktop/cse258/assignment2/Samuel/assignment2.ipynb#X63sZmlsZQ%3D%3D?line=1'>2</a>\u001b[0m \u001b[39mfrom\u001b[39;00m \u001b[39mcollections\u001b[39;00m \u001b[39mimport\u001b[39;00m Counter\n\u001b[0;32m      <a href='vscode-notebook-cell:/c%3A/Users/Lenovo/Desktop/cse258/assignment2/Samuel/assignment2.ipynb#X63sZmlsZQ%3D%3D?line=3'>4</a>\u001b[0m \u001b[39mprint\u001b[39m(\u001b[39m'\u001b[39m\u001b[39mOriginal dataset shape:\u001b[39m\u001b[39m'\u001b[39m, Counter(y_train))\n",
      "File \u001b[1;32mc:\\Users\\Lenovo\\anaconda3\\lib\\site-packages\\imblearn\\__init__.py:52\u001b[0m\n\u001b[0;32m     48\u001b[0m     sys\u001b[39m.\u001b[39mstderr\u001b[39m.\u001b[39mwrite(\u001b[39m\"\u001b[39m\u001b[39mPartial import of imblearn during the build process.\u001b[39m\u001b[39m\\n\u001b[39;00m\u001b[39m\"\u001b[39m)\n\u001b[0;32m     49\u001b[0m     \u001b[39m# We are not importing the rest of scikit-learn during the build\u001b[39;00m\n\u001b[0;32m     50\u001b[0m     \u001b[39m# process, as it may not be compiled yet\u001b[39;00m\n\u001b[0;32m     51\u001b[0m \u001b[39melse\u001b[39;00m:\n\u001b[1;32m---> 52\u001b[0m     \u001b[39mfrom\u001b[39;00m \u001b[39m.\u001b[39;00m \u001b[39mimport\u001b[39;00m (\n\u001b[0;32m     53\u001b[0m         combine,\n\u001b[0;32m     54\u001b[0m         ensemble,\n\u001b[0;32m     55\u001b[0m         exceptions,\n\u001b[0;32m     56\u001b[0m         metrics,\n\u001b[0;32m     57\u001b[0m         over_sampling,\n\u001b[0;32m     58\u001b[0m         pipeline,\n\u001b[0;32m     59\u001b[0m         tensorflow,\n\u001b[0;32m     60\u001b[0m         under_sampling,\n\u001b[0;32m     61\u001b[0m         utils,\n\u001b[0;32m     62\u001b[0m     )\n\u001b[0;32m     63\u001b[0m     \u001b[39mfrom\u001b[39;00m \u001b[39m.\u001b[39;00m\u001b[39m_version\u001b[39;00m \u001b[39mimport\u001b[39;00m __version__\n\u001b[0;32m     64\u001b[0m     \u001b[39mfrom\u001b[39;00m \u001b[39m.\u001b[39;00m\u001b[39mbase\u001b[39;00m \u001b[39mimport\u001b[39;00m FunctionSampler\n",
      "File \u001b[1;32mc:\\Users\\Lenovo\\anaconda3\\lib\\site-packages\\imblearn\\combine\\__init__.py:5\u001b[0m\n\u001b[0;32m      1\u001b[0m \u001b[39m\"\"\"The :mod:`imblearn.combine` provides methods which combine\u001b[39;00m\n\u001b[0;32m      2\u001b[0m \u001b[39mover-sampling and under-sampling.\u001b[39;00m\n\u001b[0;32m      3\u001b[0m \u001b[39m\"\"\"\u001b[39;00m\n\u001b[1;32m----> 5\u001b[0m \u001b[39mfrom\u001b[39;00m \u001b[39m.\u001b[39;00m\u001b[39m_smote_enn\u001b[39;00m \u001b[39mimport\u001b[39;00m SMOTEENN\n\u001b[0;32m      6\u001b[0m \u001b[39mfrom\u001b[39;00m \u001b[39m.\u001b[39;00m\u001b[39m_smote_tomek\u001b[39;00m \u001b[39mimport\u001b[39;00m SMOTETomek\n\u001b[0;32m      8\u001b[0m __all__ \u001b[39m=\u001b[39m [\u001b[39m\"\u001b[39m\u001b[39mSMOTEENN\u001b[39m\u001b[39m\"\u001b[39m, \u001b[39m\"\u001b[39m\u001b[39mSMOTETomek\u001b[39m\u001b[39m\"\u001b[39m]\n",
      "File \u001b[1;32mc:\\Users\\Lenovo\\anaconda3\\lib\\site-packages\\imblearn\\combine\\_smote_enn.py:12\u001b[0m\n\u001b[0;32m      9\u001b[0m \u001b[39mfrom\u001b[39;00m \u001b[39msklearn\u001b[39;00m\u001b[39m.\u001b[39;00m\u001b[39mbase\u001b[39;00m \u001b[39mimport\u001b[39;00m clone\n\u001b[0;32m     10\u001b[0m \u001b[39mfrom\u001b[39;00m \u001b[39msklearn\u001b[39;00m\u001b[39m.\u001b[39;00m\u001b[39mutils\u001b[39;00m \u001b[39mimport\u001b[39;00m check_X_y\n\u001b[1;32m---> 12\u001b[0m \u001b[39mfrom\u001b[39;00m \u001b[39m.\u001b[39;00m\u001b[39m.\u001b[39;00m\u001b[39mbase\u001b[39;00m \u001b[39mimport\u001b[39;00m BaseSampler\n\u001b[0;32m     13\u001b[0m \u001b[39mfrom\u001b[39;00m \u001b[39m.\u001b[39;00m\u001b[39m.\u001b[39;00m\u001b[39mover_sampling\u001b[39;00m \u001b[39mimport\u001b[39;00m SMOTE\n\u001b[0;32m     14\u001b[0m \u001b[39mfrom\u001b[39;00m \u001b[39m.\u001b[39;00m\u001b[39m.\u001b[39;00m\u001b[39mover_sampling\u001b[39;00m\u001b[39m.\u001b[39;00m\u001b[39mbase\u001b[39;00m \u001b[39mimport\u001b[39;00m BaseOverSampler\n",
      "File \u001b[1;32mc:\\Users\\Lenovo\\anaconda3\\lib\\site-packages\\imblearn\\base.py:21\u001b[0m\n\u001b[0;32m     18\u001b[0m \u001b[39mfrom\u001b[39;00m \u001b[39msklearn\u001b[39;00m\u001b[39m.\u001b[39;00m\u001b[39mutils\u001b[39;00m\u001b[39m.\u001b[39;00m\u001b[39mmulticlass\u001b[39;00m \u001b[39mimport\u001b[39;00m check_classification_targets\n\u001b[0;32m     20\u001b[0m \u001b[39mfrom\u001b[39;00m \u001b[39m.\u001b[39;00m\u001b[39mutils\u001b[39;00m \u001b[39mimport\u001b[39;00m check_sampling_strategy, check_target_type\n\u001b[1;32m---> 21\u001b[0m \u001b[39mfrom\u001b[39;00m \u001b[39m.\u001b[39;00m\u001b[39mutils\u001b[39;00m\u001b[39m.\u001b[39;00m\u001b[39m_param_validation\u001b[39;00m \u001b[39mimport\u001b[39;00m validate_parameter_constraints\n\u001b[0;32m     22\u001b[0m \u001b[39mfrom\u001b[39;00m \u001b[39m.\u001b[39;00m\u001b[39mutils\u001b[39;00m\u001b[39m.\u001b[39;00m\u001b[39m_validation\u001b[39;00m \u001b[39mimport\u001b[39;00m ArraysTransformer\n\u001b[0;32m     25\u001b[0m \u001b[39mclass\u001b[39;00m \u001b[39mSamplerMixin\u001b[39;00m(BaseEstimator, metaclass\u001b[39m=\u001b[39mABCMeta):\n",
      "File \u001b[1;32mc:\\Users\\Lenovo\\anaconda3\\lib\\site-packages\\imblearn\\utils\\_param_validation.py:908\u001b[0m\n\u001b[0;32m    906\u001b[0m \u001b[39mfrom\u001b[39;00m \u001b[39msklearn\u001b[39;00m\u001b[39m.\u001b[39;00m\u001b[39mutils\u001b[39;00m\u001b[39m.\u001b[39;00m\u001b[39m_param_validation\u001b[39;00m \u001b[39mimport\u001b[39;00m generate_valid_param  \u001b[39m# noqa\u001b[39;00m\n\u001b[0;32m    907\u001b[0m \u001b[39mfrom\u001b[39;00m \u001b[39msklearn\u001b[39;00m\u001b[39m.\u001b[39;00m\u001b[39mutils\u001b[39;00m\u001b[39m.\u001b[39;00m\u001b[39m_param_validation\u001b[39;00m \u001b[39mimport\u001b[39;00m validate_parameter_constraints  \u001b[39m# noqa\u001b[39;00m\n\u001b[1;32m--> 908\u001b[0m \u001b[39mfrom\u001b[39;00m \u001b[39msklearn\u001b[39;00m\u001b[39m.\u001b[39;00m\u001b[39mutils\u001b[39;00m\u001b[39m.\u001b[39;00m\u001b[39m_param_validation\u001b[39;00m \u001b[39mimport\u001b[39;00m (\n\u001b[0;32m    909\u001b[0m     HasMethods,\n\u001b[0;32m    910\u001b[0m     Hidden,\n\u001b[0;32m    911\u001b[0m     Interval,\n\u001b[0;32m    912\u001b[0m     Options,\n\u001b[0;32m    913\u001b[0m     StrOptions,\n\u001b[0;32m    914\u001b[0m     _ArrayLikes,\n\u001b[0;32m    915\u001b[0m     _Booleans,\n\u001b[0;32m    916\u001b[0m     _Callables,\n\u001b[0;32m    917\u001b[0m     _CVObjects,\n\u001b[0;32m    918\u001b[0m     _InstancesOf,\n\u001b[0;32m    919\u001b[0m     _IterablesNotString,\n\u001b[0;32m    920\u001b[0m     _MissingValues,\n\u001b[0;32m    921\u001b[0m     _NoneConstraint,\n\u001b[0;32m    922\u001b[0m     _PandasNAConstraint,\n\u001b[0;32m    923\u001b[0m     _RandomStates,\n\u001b[0;32m    924\u001b[0m     _SparseMatrices,\n\u001b[0;32m    925\u001b[0m     _VerboseHelper,\n\u001b[0;32m    926\u001b[0m     make_constraint,\n\u001b[0;32m    927\u001b[0m     validate_params,\n\u001b[0;32m    928\u001b[0m )\n",
      "\u001b[1;31mImportError\u001b[0m: cannot import name '_MissingValues' from 'sklearn.utils._param_validation' (c:\\Users\\Lenovo\\anaconda3\\lib\\site-packages\\sklearn\\utils\\_param_validation.py)"
     ]
    }
   ],
   "source": [
    "from imblearn.over_sampling import SMOTE\n",
    "from collections import Counter\n",
    "\n",
    "print('Original dataset shape:', Counter(y_train))\n",
    "\n",
    "smote = SMOTE()\n",
    "X_train_resampled, y_train_resampled = smote.fit_resample(scaler.fit_transform(X_train), y_train)\n",
    "\n",
    "print('Resampled dataset shape:', Counter(y_train_resampled))\n",
    "\n",
    "model.fit(X_train_resampled, y_train_resampled)\n",
    "\n",
    "y_test = [int(d[3]) for d in interactionsValid]\n",
    "y_test_pred_lr = []\n",
    "\n",
    "for user, recipe, date, rating, review in interactionsValid:\n",
    "    if user not in user_feature_vector or recipe not in recipe_feature_vector:\n",
    "        pred = 5\n",
    "    else:\n",
    "        pred = model.predict(scaler.fit_transform([feature(user, recipe)]))[0]\n",
    "    y_test_pred_lr.append(pred)\n",
    "\n",
    "sum(1 for x,y in zip(y_test, y_test_pred_lr) if x == y) / len(y_test)"
   ]
  },
  {
   "cell_type": "code",
   "execution_count": null,
   "id": "1df15dc5-3691-4ea3-999a-41af7424892b",
   "metadata": {},
   "outputs": [],
   "source": []
  }
 ],
 "metadata": {
  "kernelspec": {
   "display_name": "Python 3 (ipykernel)",
   "language": "python",
   "name": "python3"
  },
  "language_info": {
   "codemirror_mode": {
    "name": "ipython",
    "version": 3
   },
   "file_extension": ".py",
   "mimetype": "text/x-python",
   "name": "python",
   "nbconvert_exporter": "python",
   "pygments_lexer": "ipython3",
   "version": "3.10.13"
  }
 },
 "nbformat": 4,
 "nbformat_minor": 5
}
